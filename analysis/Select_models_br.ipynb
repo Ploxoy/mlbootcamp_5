{
 "cells": [
  {
   "cell_type": "code",
   "execution_count": 1,
   "metadata": {
    "collapsed": true,
    "deletable": true,
    "editable": true
   },
   "outputs": [],
   "source": [
    "import gzip\n",
    "import os\n",
    "import pickle\n",
    "\n",
    "import numpy as np\n",
    "import pandas as pd\n",
    "\n",
    "from sklearn import linear_model\n",
    "from sklearn import metrics\n",
    "from sklearn import model_selection\n",
    "from sklearn import preprocessing"
   ]
  },
  {
   "cell_type": "code",
   "execution_count": 2,
   "metadata": {
    "collapsed": true,
    "deletable": true,
    "editable": true
   },
   "outputs": [],
   "source": [
    "pd.options.display.width = 200\n",
    "pd.options.display.max_columns = 160"
   ]
  },
  {
   "cell_type": "code",
   "execution_count": 3,
   "metadata": {
    "collapsed": false,
    "deletable": true,
    "editable": true
   },
   "outputs": [
    {
     "data": {
      "text/plain": [
       "['../data/out/l1_1_ho_xgb_1_cv0.538182_std0.00519003.csv.gz',\n",
       " '../data/out/l1_1_ho_xgb_2_cv0.538129_std0.00516314.csv.gz',\n",
       " '../data/out/l1_1_keras_2_cv0.541153_std0.csv.gz',\n",
       " '../data/out/l1_3_ho_xgb_1_cv0.538187_std6.6891e-05.csv.gz',\n",
       " '../data/out/l1_3_ho_xgb_2_cv0.538055_std7.72378e-05.csv.gz',\n",
       " '../data/out/l1_3_ho_xgb_3_cv0.538288_std0.000183969.csv.gz',\n",
       " '../data/out/l1_3_keras_1_cv0.540691_std0.csv.gz',\n",
       " '../data/out/l1_3_keras_2_cv0.54326_std0.csv.gz',\n",
       " '../data/out/l1_4_et_1_cv0.542129_std3.44189e-05.csv.gz',\n",
       " '../data/out/l1_4_et_2_cv0.54197_std0.000176882.csv.gz',\n",
       " '../data/out/l1_4_et_2_cv0.5419_std0.000188937.csv.gz',\n",
       " '../data/out/l1_4_keras_1_cv0.541952_std0.csv.gz',\n",
       " '../data/out/l1_4_keras_2_cv0.543698_std0.csv.gz',\n",
       " '../data/out/l1_4_keras_3_cv0.542354_std0.csv.gz',\n",
       " '../data/out/l1_4_keras_4_cv0.541854_std0.csv.gz',\n",
       " '../data/out/l1_4_lgb_1_cv0.538081_std2.33345e-05.csv.gz',\n",
       " '../data/out/l1_4_rf_1_cv0.545454_std0.000162543.csv.gz',\n",
       " '../data/out/l1_4_rf_2_cv0.543514_std0.000143625.csv.gz',\n",
       " '../data/out/l1_4_rf_3_cv0.544969_std6.0826e-05.csv.gz',\n",
       " '../data/out/l1_4_xgb_1_cv0.53814_std0.000173622.csv.gz',\n",
       " '../data/out/l1_4_xgb_2_cv0.538082_std9.25008e-05.csv.gz',\n",
       " '../data/out/l1_4_xgb_3_cv0.538317_std0.000188571.csv.gz',\n",
       " '../data/out/l1_5_et_1_cv0.540672_std5.07063e-05.csv.gz',\n",
       " '../data/out/l1_5_keras_1_cv0.542982_std0.csv.gz',\n",
       " '../data/out/l1_5_keras_2_cv0.543991_std0.csv.gz',\n",
       " '../data/out/l1_5_lgb_1_cv0.538079_std5.83602e-05.csv.gz',\n",
       " '../data/out/l1_5_lgb_2_cv0.5381_std9.1473e-05.csv.gz',\n",
       " '../data/out/l1_5_lgb_3_cv0.538042_std1.67833e-05.csv.gz',\n",
       " '../data/out/l1_5_lgb_4_cv0.538012_std2.5363e-05.csv.gz',\n",
       " '../data/out/l1_5_lgb_5_cv0.538108_std2.33262e-05.csv.gz',\n",
       " '../data/out/l1_5_lgb_6_cv0.538243_std4.72474e-05.csv.gz',\n",
       " '../data/out/l1_5_lgb_7_cv0.538424_std7.17589e-05.csv.gz',\n",
       " '../data/out/l1_5_lgb_8_cv0.538702_std7.4266e-05.csv.gz',\n",
       " '../data/out/l1_5_rf_1_cv0.54416_std0.000137657.csv.gz',\n",
       " '../data/out/l1_5_xgb_1_cv0.538101_std8.53153e-05.csv.gz',\n",
       " '../data/out/l1_5_xgb_2_cv0.538191_std0.0001819.csv.gz',\n",
       " '../data/out/l1_5_xgb_3_cv0.539036_std6.35132e-05.csv.gz',\n",
       " '../data/out/l1_6_keras_1_cv0.540274_std0.csv.gz',\n",
       " '../data/out/l1_6_keras_2_cv0.54019_std0.csv.gz',\n",
       " '../data/out/l1_6_keras_3_cv0.541651_std0.csv.gz',\n",
       " '../data/out/l1_6_keras_4_cv0.544438_std0.csv.gz',\n",
       " '../data/out/l1_6_lgb_1_cv0.53924_std4.37193e-05.csv.gz',\n",
       " '../data/out/l1_6_lgb_2_cv0.539042_std6.75697e-05.csv.gz',\n",
       " '../data/out/l1_6_lgb_3_cv0.53952_std6.20364e-05.csv.gz',\n",
       " '../data/out/l1_6_lgb_4_cv0.539143_std2.54006e-05.csv.gz',\n",
       " '../data/out/l1_6_lgb_5_cv0.538951_std3.51016e-05.csv.gz',\n",
       " '../data/out/l1_6_lgb_6_cv0.538512_std2.63599e-05.csv.gz',\n",
       " '../data/out/l1_6_xgb_1_cv0.539217_std0.00011933.csv.gz',\n",
       " '../data/out/l1_6_xgb_2_cv0.542992_std0.000493813.csv.gz',\n",
       " '../data/out/l1_6_xgb_3_cv0.539507_std0.000153076.csv.gz',\n",
       " '../data/out/l1_6_xgb_4_cv0.539502_std2.66142e-05.csv.gz',\n",
       " '../data/out/l1_6_xgb_5_cv0.53906_std0.000102403.csv.gz',\n",
       " '../data/out/l1_6_xgb_6_cv0.539009_std0.00020322.csv.gz',\n",
       " '../data/out/l1_7_keras_1_cv0.54558_std0.csv.gz',\n",
       " '../data/out/l1_7_keras_2_cv0.545704_std0.csv.gz',\n",
       " '../data/out/l1_7_keras_3_cv0.545918_std0.csv.gz',\n",
       " '../data/out/l1_7_keras_4_cv0.545049_std0.csv.gz',\n",
       " '../data/out/l1_7_keras_5_cv0.545411_std0.csv.gz',\n",
       " '../data/out/l1_7_lgb_1_cv0.539033_std4.21926e-05.csv.gz',\n",
       " '../data/out/l1_7_lgb_2_cv0.53891_std5.21151e-05.csv.gz',\n",
       " '../data/out/l1_7_lgb_3_cv0.538884_std6.18198e-05.csv.gz',\n",
       " '../data/out/l1_7_lgb_4_cv0.538833_std7.261e-05.csv.gz',\n",
       " '../data/out/l1_7_lgb_5_cv0.538712_std8.39446e-05.csv.gz',\n",
       " '../data/out/l1_7_lgb_6_cv0.538518_std7.00905e-05.csv.gz',\n",
       " '../data/out/l1_7_lgb_7_cv0.538587_std7.95624e-05.csv.gz',\n",
       " '../data/out/l1_7_lgb_8_cv0.537883_std9.58207e-05.csv.gz',\n",
       " '../data/out/l1_7_lgb_9_cv0.538104_std5.07377e-05.csv.gz',\n",
       " '../data/out/l1_7_lgb_a_cv0.537884_std5.75743e-05.csv.gz',\n",
       " '../data/out/l1_7_lgb_b_cv0.537843_std0.000100324.csv.gz',\n",
       " '../data/out/l1_7_lgb_c_cv0.537797_std5.0703e-05.csv.gz']"
      ]
     },
     "execution_count": 3,
     "metadata": {},
     "output_type": "execute_result"
    }
   ],
   "source": [
    "PD = '../data/out'\n",
    "predict_paths = sorted([os.path.join(PD, x) for x in os.listdir(PD) if x.find('_cvnan') == -1 and not x.startswith('l2_')])\n",
    "predicts = [pd.read_csv(x) for x in predict_paths]\n",
    "predict_paths"
   ]
  },
  {
   "cell_type": "code",
   "execution_count": 4,
   "metadata": {
    "collapsed": false,
    "deletable": true,
    "editable": true
   },
   "outputs": [
    {
     "data": {
      "text/html": [
       "<div>\n",
       "<table border=\"1\" class=\"dataframe\">\n",
       "  <thead>\n",
       "    <tr style=\"text-align: right;\">\n",
       "      <th></th>\n",
       "      <th>id</th>\n",
       "      <th>train</th>\n",
       "    </tr>\n",
       "  </thead>\n",
       "  <tbody>\n",
       "    <tr>\n",
       "      <th>count</th>\n",
       "      <td>100000.000000</td>\n",
       "      <td>100000.00000</td>\n",
       "    </tr>\n",
       "    <tr>\n",
       "      <th>mean</th>\n",
       "      <td>49999.500000</td>\n",
       "      <td>0.70000</td>\n",
       "    </tr>\n",
       "    <tr>\n",
       "      <th>std</th>\n",
       "      <td>28867.657797</td>\n",
       "      <td>0.45826</td>\n",
       "    </tr>\n",
       "    <tr>\n",
       "      <th>min</th>\n",
       "      <td>0.000000</td>\n",
       "      <td>0.00000</td>\n",
       "    </tr>\n",
       "    <tr>\n",
       "      <th>25%</th>\n",
       "      <td>24999.750000</td>\n",
       "      <td>0.00000</td>\n",
       "    </tr>\n",
       "    <tr>\n",
       "      <th>50%</th>\n",
       "      <td>49999.500000</td>\n",
       "      <td>1.00000</td>\n",
       "    </tr>\n",
       "    <tr>\n",
       "      <th>75%</th>\n",
       "      <td>74999.250000</td>\n",
       "      <td>1.00000</td>\n",
       "    </tr>\n",
       "    <tr>\n",
       "      <th>max</th>\n",
       "      <td>99999.000000</td>\n",
       "      <td>1.00000</td>\n",
       "    </tr>\n",
       "  </tbody>\n",
       "</table>\n",
       "</div>"
      ],
      "text/plain": [
       "                  id         train\n",
       "count  100000.000000  100000.00000\n",
       "mean    49999.500000       0.70000\n",
       "std     28867.657797       0.45826\n",
       "min         0.000000       0.00000\n",
       "25%     24999.750000       0.00000\n",
       "50%     49999.500000       1.00000\n",
       "75%     74999.250000       1.00000\n",
       "max     99999.000000       1.00000"
      ]
     },
     "execution_count": 4,
     "metadata": {},
     "output_type": "execute_result"
    }
   ],
   "source": [
    "df = pd.DataFrame()\n",
    "df['id'] = predicts[-1]['id']\n",
    "df['train'] = predicts[-1]['train']\n",
    "df.describe()"
   ]
  },
  {
   "cell_type": "code",
   "execution_count": 5,
   "metadata": {
    "collapsed": false,
    "deletable": true,
    "editable": true
   },
   "outputs": [
    {
     "data": {
      "text/plain": [
       "Index(['l1_7_lgb_c_y', 'l1_7_lgb_c_lgb0', 'l1_7_lgb_c_lgb1', 'l1_7_lgb_c_lgb2', 'l1_7_lgb_c_lgb3', 'l1_7_lgb_c_lgb4'], dtype='object')"
      ]
     },
     "execution_count": 5,
     "metadata": {},
     "output_type": "execute_result"
    }
   ],
   "source": [
    "for p, n in zip(predicts, predict_paths):\n",
    "    p.drop(['id', 'train'], axis=1, inplace=True)\n",
    "    n = os.path.basename(n)\n",
    "    n = n[:n.index('_cv')]\n",
    "    p.columns = [n + '_' + c for c in p.columns]\n",
    "predicts[-1].columns"
   ]
  },
  {
   "cell_type": "code",
   "execution_count": 6,
   "metadata": {
    "collapsed": false,
    "deletable": true,
    "editable": true
   },
   "outputs": [],
   "source": [
    "df2 = pd.concat([df] + predicts, axis=1)\n",
    "\n",
    "idx = df2.train == 1\n",
    "train = df2.ix[idx].drop(['train', 'id'], axis=1)\n",
    "test = df2.ix[~idx].drop(['train', 'id'], axis=1)"
   ]
  },
  {
   "cell_type": "code",
   "execution_count": 7,
   "metadata": {
    "collapsed": false,
    "deletable": true,
    "editable": true
   },
   "outputs": [
    {
     "data": {
      "text/plain": [
       "count    70000.000000\n",
       "mean         0.499700\n",
       "std          0.500003\n",
       "min          0.000000\n",
       "25%          0.000000\n",
       "50%          0.000000\n",
       "75%          1.000000\n",
       "max          1.000000\n",
       "Name: l1_1_ho_xgb_1_y, dtype: float64"
      ]
     },
     "execution_count": 7,
     "metadata": {},
     "output_type": "execute_result"
    }
   ],
   "source": [
    "to_drop = [c for c in train.columns if c.endswith('_y')]\n",
    "y = train[to_drop[0]]\n",
    "\n",
    "train.drop(to_drop, axis=1, inplace=True)\n",
    "test.drop(to_drop, axis=1, inplace=True)\n",
    "\n",
    "y.describe()"
   ]
  },
  {
   "cell_type": "code",
   "execution_count": 8,
   "metadata": {
    "collapsed": false,
    "deletable": true,
    "editable": true
   },
   "outputs": [
    {
     "data": {
      "text/plain": [
       "((70000, 176), (30000, 176))"
      ]
     },
     "execution_count": 8,
     "metadata": {},
     "output_type": "execute_result"
    }
   ],
   "source": [
    "train.shape, test.shape"
   ]
  },
  {
   "cell_type": "code",
   "execution_count": 9,
   "metadata": {
    "collapsed": false,
    "deletable": true,
    "editable": true
   },
   "outputs": [
    {
     "data": {
      "text/plain": [
       "0.5379076630921803"
      ]
     },
     "execution_count": 9,
     "metadata": {},
     "output_type": "execute_result"
    }
   ],
   "source": [
    "metrics.log_loss(y_true=y, y_pred=train.mean(axis=1))"
   ]
  },
  {
   "cell_type": "code",
   "execution_count": 10,
   "metadata": {
    "collapsed": false,
    "deletable": true,
    "editable": true
   },
   "outputs": [
    {
     "data": {
      "text/plain": [
       "0.53756568632270996"
      ]
     },
     "execution_count": 10,
     "metadata": {},
     "output_type": "execute_result"
    }
   ],
   "source": [
    "metrics.log_loss(y_true=y, y_pred=train.median(axis=1))"
   ]
  },
  {
   "cell_type": "raw",
   "metadata": {
    "deletable": true,
    "editable": true
   },
   "source": [
    "z = test.median(axis=1)\n",
    "z.to_csv('../predicts/median_up_to_7.csv', header=None, index=False)"
   ]
  },
  {
   "cell_type": "code",
   "execution_count": 11,
   "metadata": {
    "collapsed": false,
    "deletable": true,
    "editable": true
   },
   "outputs": [
    {
     "data": {
      "text/plain": [
       "0.54583072301255953"
      ]
     },
     "execution_count": 11,
     "metadata": {},
     "output_type": "execute_result"
    }
   ],
   "source": [
    "def gmean(t):\n",
    "    eps = 1e-5\n",
    "    t = np.clip(t, eps, 1-eps)\n",
    "    t = np.log(t + eps)\n",
    "    t = np.mean(t, axis=1)\n",
    "    t = np.exp(t) - eps\n",
    "    t = np.clip(t, eps, 1-eps)\n",
    "    return t\n",
    "metrics.log_loss(y_true=y, y_pred=gmean(train))"
   ]
  },
  {
   "cell_type": "code",
   "execution_count": 12,
   "metadata": {
    "collapsed": false,
    "deletable": true,
    "editable": true
   },
   "outputs": [
    {
     "data": {
      "text/plain": [
       "l1_1_ho_xgb_1_p0    0.019664\n",
       "l1_1_ho_xgb_2_p0    0.027440\n",
       "l1_1_keras_2_p      0.000000\n",
       "l1_3_ho_xgb_1_p0    0.030272\n",
       "l1_3_ho_xgb_1_p1    0.027619\n",
       "l1_3_ho_xgb_1_p2    0.031279\n",
       "l1_3_ho_xgb_2_p0    0.029898\n",
       "l1_3_ho_xgb_2_p1    0.029202\n",
       "l1_3_ho_xgb_2_p2    0.027126\n",
       "l1_3_ho_xgb_3_p0    0.027876\n",
       "l1_3_ho_xgb_3_p1    0.021997\n",
       "l1_3_ho_xgb_3_p2    0.028107\n",
       "l1_3_keras_1_p      0.000000\n",
       "l1_3_keras_2_p      0.000000\n",
       "l1_4_et_1_p0        0.012897\n",
       "l1_4_et_1_p1        0.013616\n",
       "l1_4_et_1_p2        0.009871\n",
       "l1_4_et_2_p0        0.013670\n",
       "l1_4_et_2_p1        0.017805\n",
       "l1_4_et_2_p2        0.020341\n",
       "l1_4_et_2_p0        0.014988\n",
       "l1_4_et_2_p1        0.015837\n",
       "l1_4_et_2_p2        0.018169\n",
       "l1_4_keras_1_p      0.000239\n",
       "l1_4_keras_2_p      0.002715\n",
       "l1_4_keras_3_p      0.025872\n",
       "l1_4_keras_4_p      0.013974\n",
       "l1_4_lgb_1_p0       0.025083\n",
       "l1_4_lgb_1_p1       0.027616\n",
       "l1_4_lgb_1_p2       0.022892\n",
       "                      ...   \n",
       "l1_7_lgb_5_lgb0     0.025567\n",
       "l1_7_lgb_5_lgb1     0.033775\n",
       "l1_7_lgb_5_lgb2     0.035172\n",
       "l1_7_lgb_6_lgb0     0.021648\n",
       "l1_7_lgb_6_lgb1     0.022547\n",
       "l1_7_lgb_6_lgb2     0.023449\n",
       "l1_7_lgb_7_lgb0     0.029216\n",
       "l1_7_lgb_7_lgb1     0.031252\n",
       "l1_7_lgb_7_lgb2     0.029660\n",
       "l1_7_lgb_8_lgb0     0.031667\n",
       "l1_7_lgb_8_lgb1     0.030101\n",
       "l1_7_lgb_8_lgb2     0.024731\n",
       "l1_7_lgb_9_lgb0     0.023708\n",
       "l1_7_lgb_9_lgb1     0.021423\n",
       "l1_7_lgb_9_lgb2     0.028185\n",
       "l1_7_lgb_a_lgb0     0.024410\n",
       "l1_7_lgb_a_lgb1     0.025299\n",
       "l1_7_lgb_a_lgb2     0.026950\n",
       "l1_7_lgb_a_lgb3     0.024320\n",
       "l1_7_lgb_a_lgb4     0.024103\n",
       "l1_7_lgb_b_lgb0     0.025626\n",
       "l1_7_lgb_b_lgb1     0.024358\n",
       "l1_7_lgb_b_lgb2     0.023478\n",
       "l1_7_lgb_b_lgb3     0.021964\n",
       "l1_7_lgb_b_lgb4     0.021339\n",
       "l1_7_lgb_c_lgb0     0.027051\n",
       "l1_7_lgb_c_lgb1     0.026636\n",
       "l1_7_lgb_c_lgb2     0.025832\n",
       "l1_7_lgb_c_lgb3     0.023734\n",
       "l1_7_lgb_c_lgb4     0.024533\n",
       "dtype: float64"
      ]
     },
     "execution_count": 12,
     "metadata": {},
     "output_type": "execute_result"
    }
   ],
   "source": [
    "train.min()"
   ]
  },
  {
   "cell_type": "raw",
   "metadata": {
    "collapsed": false,
    "deletable": true,
    "editable": true
   },
   "source": [
    "current = set()\n",
    "\n",
    "g_best_score = 1e9\n",
    "g_best_features = None\n",
    "\n",
    "y = y.ravel()\n",
    "\n",
    "for _ in enumerate(train.columns):\n",
    "    avail = set(train.columns).difference(current)\n",
    "    best_score = 1e9\n",
    "    best_features = None\n",
    "    for f in avail:\n",
    "        newf = list(current | {f})\n",
    "        cv = model_selection.cross_val_score(linear_model.BayesianRidge(), train[newf], y, cv=10, n_jobs=-2, scoring=metrics.make_scorer(metrics.log_loss))\n",
    "        score = np.mean(cv)\n",
    "        if best_score > score:\n",
    "            best_score = score\n",
    "            best_features = newf\n",
    "    current = set(best_features)\n",
    "    if g_best_score > best_score:\n",
    "        g_best_score = best_score\n",
    "        g_best_features = best_features\n",
    "        print('new best:', g_best_score, g_best_features)\n",
    "    if len(best_features) - len(g_best_features) > 15:\n",
    "        break\n",
    "print('done')"
   ]
  }
 ],
 "metadata": {
  "kernelspec": {
   "display_name": "Python 3",
   "language": "python",
   "name": "python3"
  },
  "language_info": {
   "codemirror_mode": {
    "name": "ipython",
    "version": 3
   },
   "file_extension": ".py",
   "mimetype": "text/x-python",
   "name": "python",
   "nbconvert_exporter": "python",
   "pygments_lexer": "ipython3",
   "version": "3.5.2"
  }
 },
 "nbformat": 4,
 "nbformat_minor": 2
}
